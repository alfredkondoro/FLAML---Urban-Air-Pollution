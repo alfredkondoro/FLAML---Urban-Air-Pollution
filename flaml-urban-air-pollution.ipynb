{
 "cells": [
  {
   "cell_type": "code",
   "execution_count": 1,
   "id": "765dbf70",
   "metadata": {
    "_cell_guid": "b1076dfc-b9ad-4769-8c92-a6c4dae69d19",
    "_uuid": "8f2839f25d086af736a60e9eeb907d3b93b6e0e5",
    "execution": {
     "iopub.execute_input": "2024-03-10T16:16:59.070065Z",
     "iopub.status.busy": "2024-03-10T16:16:59.069381Z",
     "iopub.status.idle": "2024-03-10T16:16:59.949764Z",
     "shell.execute_reply": "2024-03-10T16:16:59.948766Z"
    },
    "papermill": {
     "duration": 0.892437,
     "end_time": "2024-03-10T16:16:59.952445",
     "exception": false,
     "start_time": "2024-03-10T16:16:59.060008",
     "status": "completed"
    },
    "tags": []
   },
   "outputs": [],
   "source": [
    "import numpy as np\n",
    "import pandas as pd"
   ]
  },
  {
   "cell_type": "code",
   "execution_count": 2,
   "id": "5946a2a6",
   "metadata": {
    "execution": {
     "iopub.execute_input": "2024-03-10T16:16:59.968126Z",
     "iopub.status.busy": "2024-03-10T16:16:59.967573Z",
     "iopub.status.idle": "2024-03-10T16:17:01.475347Z",
     "shell.execute_reply": "2024-03-10T16:17:01.474344Z"
    },
    "papermill": {
     "duration": 1.518449,
     "end_time": "2024-03-10T16:17:01.477972",
     "exception": false,
     "start_time": "2024-03-10T16:16:59.959523",
     "status": "completed"
    },
    "tags": []
   },
   "outputs": [],
   "source": [
    "train = pd.read_csv(\"/kaggle/input/urban-air-pollution/Train.csv\")\n",
    "test = pd.read_csv(\"/kaggle/input/urban-air-pollution/Test.csv\")\n",
    "sample = pd.read_csv(\"/kaggle/input/urban-air-pollution/SampleSubmission.csv\")"
   ]
  },
  {
   "cell_type": "code",
   "execution_count": 3,
   "id": "1958e6f9",
   "metadata": {
    "execution": {
     "iopub.execute_input": "2024-03-10T16:17:01.493017Z",
     "iopub.status.busy": "2024-03-10T16:17:01.492632Z",
     "iopub.status.idle": "2024-03-10T16:17:01.534631Z",
     "shell.execute_reply": "2024-03-10T16:17:01.533530Z"
    },
    "papermill": {
     "duration": 0.052699,
     "end_time": "2024-03-10T16:17:01.537297",
     "exception": false,
     "start_time": "2024-03-10T16:17:01.484598",
     "status": "completed"
    },
    "tags": []
   },
   "outputs": [
    {
     "data": {
      "text/html": [
       "<div>\n",
       "<style scoped>\n",
       "    .dataframe tbody tr th:only-of-type {\n",
       "        vertical-align: middle;\n",
       "    }\n",
       "\n",
       "    .dataframe tbody tr th {\n",
       "        vertical-align: top;\n",
       "    }\n",
       "\n",
       "    .dataframe thead th {\n",
       "        text-align: right;\n",
       "    }\n",
       "</style>\n",
       "<table border=\"1\" class=\"dataframe\">\n",
       "  <thead>\n",
       "    <tr style=\"text-align: right;\">\n",
       "      <th></th>\n",
       "      <th>Place_ID X Date</th>\n",
       "      <th>Date</th>\n",
       "      <th>Place_ID</th>\n",
       "      <th>target</th>\n",
       "      <th>target_min</th>\n",
       "      <th>target_max</th>\n",
       "      <th>target_variance</th>\n",
       "      <th>target_count</th>\n",
       "      <th>precipitable_water_entire_atmosphere</th>\n",
       "      <th>relative_humidity_2m_above_ground</th>\n",
       "      <th>...</th>\n",
       "      <th>L3_SO2_sensor_zenith_angle</th>\n",
       "      <th>L3_SO2_solar_azimuth_angle</th>\n",
       "      <th>L3_SO2_solar_zenith_angle</th>\n",
       "      <th>L3_CH4_CH4_column_volume_mixing_ratio_dry_air</th>\n",
       "      <th>L3_CH4_aerosol_height</th>\n",
       "      <th>L3_CH4_aerosol_optical_depth</th>\n",
       "      <th>L3_CH4_sensor_azimuth_angle</th>\n",
       "      <th>L3_CH4_sensor_zenith_angle</th>\n",
       "      <th>L3_CH4_solar_azimuth_angle</th>\n",
       "      <th>L3_CH4_solar_zenith_angle</th>\n",
       "    </tr>\n",
       "  </thead>\n",
       "  <tbody>\n",
       "    <tr>\n",
       "      <th>0</th>\n",
       "      <td>010Q650 X 2020-01-02</td>\n",
       "      <td>2020-01-02</td>\n",
       "      <td>010Q650</td>\n",
       "      <td>38.0</td>\n",
       "      <td>23.0</td>\n",
       "      <td>53.0</td>\n",
       "      <td>769.50</td>\n",
       "      <td>92</td>\n",
       "      <td>11.000000</td>\n",
       "      <td>60.200001</td>\n",
       "      <td>...</td>\n",
       "      <td>38.593017</td>\n",
       "      <td>-61.752587</td>\n",
       "      <td>22.363665</td>\n",
       "      <td>1793.793579</td>\n",
       "      <td>3227.855469</td>\n",
       "      <td>0.010579</td>\n",
       "      <td>74.481049</td>\n",
       "      <td>37.501499</td>\n",
       "      <td>-62.142639</td>\n",
       "      <td>22.545118</td>\n",
       "    </tr>\n",
       "    <tr>\n",
       "      <th>1</th>\n",
       "      <td>010Q650 X 2020-01-03</td>\n",
       "      <td>2020-01-03</td>\n",
       "      <td>010Q650</td>\n",
       "      <td>39.0</td>\n",
       "      <td>25.0</td>\n",
       "      <td>63.0</td>\n",
       "      <td>1319.85</td>\n",
       "      <td>91</td>\n",
       "      <td>14.600000</td>\n",
       "      <td>48.799999</td>\n",
       "      <td>...</td>\n",
       "      <td>59.624912</td>\n",
       "      <td>-67.693509</td>\n",
       "      <td>28.614804</td>\n",
       "      <td>1789.960449</td>\n",
       "      <td>3384.226562</td>\n",
       "      <td>0.015104</td>\n",
       "      <td>75.630043</td>\n",
       "      <td>55.657486</td>\n",
       "      <td>-53.868134</td>\n",
       "      <td>19.293652</td>\n",
       "    </tr>\n",
       "    <tr>\n",
       "      <th>2</th>\n",
       "      <td>010Q650 X 2020-01-04</td>\n",
       "      <td>2020-01-04</td>\n",
       "      <td>010Q650</td>\n",
       "      <td>24.0</td>\n",
       "      <td>8.0</td>\n",
       "      <td>56.0</td>\n",
       "      <td>1181.96</td>\n",
       "      <td>96</td>\n",
       "      <td>16.400000</td>\n",
       "      <td>33.400002</td>\n",
       "      <td>...</td>\n",
       "      <td>49.839714</td>\n",
       "      <td>-78.342701</td>\n",
       "      <td>34.296977</td>\n",
       "      <td>NaN</td>\n",
       "      <td>NaN</td>\n",
       "      <td>NaN</td>\n",
       "      <td>NaN</td>\n",
       "      <td>NaN</td>\n",
       "      <td>NaN</td>\n",
       "      <td>NaN</td>\n",
       "    </tr>\n",
       "    <tr>\n",
       "      <th>3</th>\n",
       "      <td>010Q650 X 2020-01-05</td>\n",
       "      <td>2020-01-05</td>\n",
       "      <td>010Q650</td>\n",
       "      <td>49.0</td>\n",
       "      <td>10.0</td>\n",
       "      <td>55.0</td>\n",
       "      <td>1113.67</td>\n",
       "      <td>96</td>\n",
       "      <td>6.911948</td>\n",
       "      <td>21.300001</td>\n",
       "      <td>...</td>\n",
       "      <td>29.181258</td>\n",
       "      <td>-73.896588</td>\n",
       "      <td>30.545446</td>\n",
       "      <td>NaN</td>\n",
       "      <td>NaN</td>\n",
       "      <td>NaN</td>\n",
       "      <td>NaN</td>\n",
       "      <td>NaN</td>\n",
       "      <td>NaN</td>\n",
       "      <td>NaN</td>\n",
       "    </tr>\n",
       "    <tr>\n",
       "      <th>4</th>\n",
       "      <td>010Q650 X 2020-01-06</td>\n",
       "      <td>2020-01-06</td>\n",
       "      <td>010Q650</td>\n",
       "      <td>21.0</td>\n",
       "      <td>9.0</td>\n",
       "      <td>52.0</td>\n",
       "      <td>1164.82</td>\n",
       "      <td>95</td>\n",
       "      <td>13.900001</td>\n",
       "      <td>44.700001</td>\n",
       "      <td>...</td>\n",
       "      <td>0.797294</td>\n",
       "      <td>-68.612480</td>\n",
       "      <td>26.899694</td>\n",
       "      <td>NaN</td>\n",
       "      <td>NaN</td>\n",
       "      <td>NaN</td>\n",
       "      <td>NaN</td>\n",
       "      <td>NaN</td>\n",
       "      <td>NaN</td>\n",
       "      <td>NaN</td>\n",
       "    </tr>\n",
       "  </tbody>\n",
       "</table>\n",
       "<p>5 rows × 82 columns</p>\n",
       "</div>"
      ],
      "text/plain": [
       "        Place_ID X Date        Date Place_ID  target  target_min  target_max  \\\n",
       "0  010Q650 X 2020-01-02  2020-01-02  010Q650    38.0        23.0        53.0   \n",
       "1  010Q650 X 2020-01-03  2020-01-03  010Q650    39.0        25.0        63.0   \n",
       "2  010Q650 X 2020-01-04  2020-01-04  010Q650    24.0         8.0        56.0   \n",
       "3  010Q650 X 2020-01-05  2020-01-05  010Q650    49.0        10.0        55.0   \n",
       "4  010Q650 X 2020-01-06  2020-01-06  010Q650    21.0         9.0        52.0   \n",
       "\n",
       "   target_variance  target_count  precipitable_water_entire_atmosphere  \\\n",
       "0           769.50            92                             11.000000   \n",
       "1          1319.85            91                             14.600000   \n",
       "2          1181.96            96                             16.400000   \n",
       "3          1113.67            96                              6.911948   \n",
       "4          1164.82            95                             13.900001   \n",
       "\n",
       "   relative_humidity_2m_above_ground  ...  L3_SO2_sensor_zenith_angle  \\\n",
       "0                          60.200001  ...                   38.593017   \n",
       "1                          48.799999  ...                   59.624912   \n",
       "2                          33.400002  ...                   49.839714   \n",
       "3                          21.300001  ...                   29.181258   \n",
       "4                          44.700001  ...                    0.797294   \n",
       "\n",
       "   L3_SO2_solar_azimuth_angle  L3_SO2_solar_zenith_angle  \\\n",
       "0                  -61.752587                  22.363665   \n",
       "1                  -67.693509                  28.614804   \n",
       "2                  -78.342701                  34.296977   \n",
       "3                  -73.896588                  30.545446   \n",
       "4                  -68.612480                  26.899694   \n",
       "\n",
       "   L3_CH4_CH4_column_volume_mixing_ratio_dry_air  L3_CH4_aerosol_height  \\\n",
       "0                                    1793.793579            3227.855469   \n",
       "1                                    1789.960449            3384.226562   \n",
       "2                                            NaN                    NaN   \n",
       "3                                            NaN                    NaN   \n",
       "4                                            NaN                    NaN   \n",
       "\n",
       "   L3_CH4_aerosol_optical_depth  L3_CH4_sensor_azimuth_angle  \\\n",
       "0                      0.010579                    74.481049   \n",
       "1                      0.015104                    75.630043   \n",
       "2                           NaN                          NaN   \n",
       "3                           NaN                          NaN   \n",
       "4                           NaN                          NaN   \n",
       "\n",
       "   L3_CH4_sensor_zenith_angle  L3_CH4_solar_azimuth_angle  \\\n",
       "0                   37.501499                  -62.142639   \n",
       "1                   55.657486                  -53.868134   \n",
       "2                         NaN                         NaN   \n",
       "3                         NaN                         NaN   \n",
       "4                         NaN                         NaN   \n",
       "\n",
       "   L3_CH4_solar_zenith_angle  \n",
       "0                  22.545118  \n",
       "1                  19.293652  \n",
       "2                        NaN  \n",
       "3                        NaN  \n",
       "4                        NaN  \n",
       "\n",
       "[5 rows x 82 columns]"
      ]
     },
     "execution_count": 3,
     "metadata": {},
     "output_type": "execute_result"
    }
   ],
   "source": [
    "train.head(5)"
   ]
  },
  {
   "cell_type": "code",
   "execution_count": 4,
   "id": "281017e7",
   "metadata": {
    "execution": {
     "iopub.execute_input": "2024-03-10T16:17:01.553077Z",
     "iopub.status.busy": "2024-03-10T16:17:01.552676Z",
     "iopub.status.idle": "2024-03-10T16:17:01.579979Z",
     "shell.execute_reply": "2024-03-10T16:17:01.578877Z"
    },
    "papermill": {
     "duration": 0.038511,
     "end_time": "2024-03-10T16:17:01.582975",
     "exception": false,
     "start_time": "2024-03-10T16:17:01.544464",
     "status": "completed"
    },
    "tags": []
   },
   "outputs": [
    {
     "data": {
      "text/html": [
       "<div>\n",
       "<style scoped>\n",
       "    .dataframe tbody tr th:only-of-type {\n",
       "        vertical-align: middle;\n",
       "    }\n",
       "\n",
       "    .dataframe tbody tr th {\n",
       "        vertical-align: top;\n",
       "    }\n",
       "\n",
       "    .dataframe thead th {\n",
       "        text-align: right;\n",
       "    }\n",
       "</style>\n",
       "<table border=\"1\" class=\"dataframe\">\n",
       "  <thead>\n",
       "    <tr style=\"text-align: right;\">\n",
       "      <th></th>\n",
       "      <th>Place_ID X Date</th>\n",
       "      <th>Date</th>\n",
       "      <th>Place_ID</th>\n",
       "      <th>precipitable_water_entire_atmosphere</th>\n",
       "      <th>relative_humidity_2m_above_ground</th>\n",
       "      <th>specific_humidity_2m_above_ground</th>\n",
       "      <th>temperature_2m_above_ground</th>\n",
       "      <th>u_component_of_wind_10m_above_ground</th>\n",
       "      <th>v_component_of_wind_10m_above_ground</th>\n",
       "      <th>L3_NO2_NO2_column_number_density</th>\n",
       "      <th>...</th>\n",
       "      <th>L3_SO2_sensor_zenith_angle</th>\n",
       "      <th>L3_SO2_solar_azimuth_angle</th>\n",
       "      <th>L3_SO2_solar_zenith_angle</th>\n",
       "      <th>L3_CH4_CH4_column_volume_mixing_ratio_dry_air</th>\n",
       "      <th>L3_CH4_aerosol_height</th>\n",
       "      <th>L3_CH4_aerosol_optical_depth</th>\n",
       "      <th>L3_CH4_sensor_azimuth_angle</th>\n",
       "      <th>L3_CH4_sensor_zenith_angle</th>\n",
       "      <th>L3_CH4_solar_azimuth_angle</th>\n",
       "      <th>L3_CH4_solar_zenith_angle</th>\n",
       "    </tr>\n",
       "  </thead>\n",
       "  <tbody>\n",
       "    <tr>\n",
       "      <th>0</th>\n",
       "      <td>0OS9LVX X 2020-01-02</td>\n",
       "      <td>2020-01-02</td>\n",
       "      <td>0OS9LVX</td>\n",
       "      <td>11.600000</td>\n",
       "      <td>30.200001</td>\n",
       "      <td>0.00409</td>\n",
       "      <td>14.656824</td>\n",
       "      <td>3.956377</td>\n",
       "      <td>0.712605</td>\n",
       "      <td>0.000053</td>\n",
       "      <td>...</td>\n",
       "      <td>1.445658</td>\n",
       "      <td>-95.984984</td>\n",
       "      <td>22.942019</td>\n",
       "      <td>NaN</td>\n",
       "      <td>NaN</td>\n",
       "      <td>NaN</td>\n",
       "      <td>NaN</td>\n",
       "      <td>NaN</td>\n",
       "      <td>NaN</td>\n",
       "      <td>NaN</td>\n",
       "    </tr>\n",
       "    <tr>\n",
       "      <th>1</th>\n",
       "      <td>0OS9LVX X 2020-01-03</td>\n",
       "      <td>2020-01-03</td>\n",
       "      <td>0OS9LVX</td>\n",
       "      <td>18.300001</td>\n",
       "      <td>42.900002</td>\n",
       "      <td>0.00595</td>\n",
       "      <td>15.026544</td>\n",
       "      <td>4.230430</td>\n",
       "      <td>0.661892</td>\n",
       "      <td>0.000050</td>\n",
       "      <td>...</td>\n",
       "      <td>34.641758</td>\n",
       "      <td>-95.014908</td>\n",
       "      <td>18.539116</td>\n",
       "      <td>NaN</td>\n",
       "      <td>NaN</td>\n",
       "      <td>NaN</td>\n",
       "      <td>NaN</td>\n",
       "      <td>NaN</td>\n",
       "      <td>NaN</td>\n",
       "      <td>NaN</td>\n",
       "    </tr>\n",
       "    <tr>\n",
       "      <th>2</th>\n",
       "      <td>0OS9LVX X 2020-01-04</td>\n",
       "      <td>2020-01-04</td>\n",
       "      <td>0OS9LVX</td>\n",
       "      <td>17.600000</td>\n",
       "      <td>41.299999</td>\n",
       "      <td>0.00590</td>\n",
       "      <td>15.511041</td>\n",
       "      <td>5.245728</td>\n",
       "      <td>1.640559</td>\n",
       "      <td>0.000050</td>\n",
       "      <td>...</td>\n",
       "      <td>55.872276</td>\n",
       "      <td>-94.015418</td>\n",
       "      <td>14.140820</td>\n",
       "      <td>NaN</td>\n",
       "      <td>NaN</td>\n",
       "      <td>NaN</td>\n",
       "      <td>NaN</td>\n",
       "      <td>NaN</td>\n",
       "      <td>NaN</td>\n",
       "      <td>NaN</td>\n",
       "    </tr>\n",
       "    <tr>\n",
       "      <th>3</th>\n",
       "      <td>0OS9LVX X 2020-01-05</td>\n",
       "      <td>2020-01-05</td>\n",
       "      <td>0OS9LVX</td>\n",
       "      <td>15.011948</td>\n",
       "      <td>53.100002</td>\n",
       "      <td>0.00709</td>\n",
       "      <td>14.441858</td>\n",
       "      <td>5.454001</td>\n",
       "      <td>-0.190532</td>\n",
       "      <td>0.000055</td>\n",
       "      <td>...</td>\n",
       "      <td>59.174188</td>\n",
       "      <td>-97.247602</td>\n",
       "      <td>32.730553</td>\n",
       "      <td>NaN</td>\n",
       "      <td>NaN</td>\n",
       "      <td>NaN</td>\n",
       "      <td>NaN</td>\n",
       "      <td>NaN</td>\n",
       "      <td>NaN</td>\n",
       "      <td>NaN</td>\n",
       "    </tr>\n",
       "    <tr>\n",
       "      <th>4</th>\n",
       "      <td>0OS9LVX X 2020-01-06</td>\n",
       "      <td>2020-01-06</td>\n",
       "      <td>0OS9LVX</td>\n",
       "      <td>9.700000</td>\n",
       "      <td>71.599998</td>\n",
       "      <td>0.00808</td>\n",
       "      <td>11.896295</td>\n",
       "      <td>3.511787</td>\n",
       "      <td>-0.279441</td>\n",
       "      <td>0.000055</td>\n",
       "      <td>...</td>\n",
       "      <td>40.925873</td>\n",
       "      <td>-96.057265</td>\n",
       "      <td>28.320527</td>\n",
       "      <td>1831.261597</td>\n",
       "      <td>3229.118652</td>\n",
       "      <td>0.031068</td>\n",
       "      <td>-100.278343</td>\n",
       "      <td>41.84708</td>\n",
       "      <td>-95.910744</td>\n",
       "      <td>28.498789</td>\n",
       "    </tr>\n",
       "  </tbody>\n",
       "</table>\n",
       "<p>5 rows × 77 columns</p>\n",
       "</div>"
      ],
      "text/plain": [
       "        Place_ID X Date        Date Place_ID  \\\n",
       "0  0OS9LVX X 2020-01-02  2020-01-02  0OS9LVX   \n",
       "1  0OS9LVX X 2020-01-03  2020-01-03  0OS9LVX   \n",
       "2  0OS9LVX X 2020-01-04  2020-01-04  0OS9LVX   \n",
       "3  0OS9LVX X 2020-01-05  2020-01-05  0OS9LVX   \n",
       "4  0OS9LVX X 2020-01-06  2020-01-06  0OS9LVX   \n",
       "\n",
       "   precipitable_water_entire_atmosphere  relative_humidity_2m_above_ground  \\\n",
       "0                             11.600000                          30.200001   \n",
       "1                             18.300001                          42.900002   \n",
       "2                             17.600000                          41.299999   \n",
       "3                             15.011948                          53.100002   \n",
       "4                              9.700000                          71.599998   \n",
       "\n",
       "   specific_humidity_2m_above_ground  temperature_2m_above_ground  \\\n",
       "0                            0.00409                    14.656824   \n",
       "1                            0.00595                    15.026544   \n",
       "2                            0.00590                    15.511041   \n",
       "3                            0.00709                    14.441858   \n",
       "4                            0.00808                    11.896295   \n",
       "\n",
       "   u_component_of_wind_10m_above_ground  v_component_of_wind_10m_above_ground  \\\n",
       "0                              3.956377                              0.712605   \n",
       "1                              4.230430                              0.661892   \n",
       "2                              5.245728                              1.640559   \n",
       "3                              5.454001                             -0.190532   \n",
       "4                              3.511787                             -0.279441   \n",
       "\n",
       "   L3_NO2_NO2_column_number_density  ...  L3_SO2_sensor_zenith_angle  \\\n",
       "0                          0.000053  ...                    1.445658   \n",
       "1                          0.000050  ...                   34.641758   \n",
       "2                          0.000050  ...                   55.872276   \n",
       "3                          0.000055  ...                   59.174188   \n",
       "4                          0.000055  ...                   40.925873   \n",
       "\n",
       "   L3_SO2_solar_azimuth_angle  L3_SO2_solar_zenith_angle  \\\n",
       "0                  -95.984984                  22.942019   \n",
       "1                  -95.014908                  18.539116   \n",
       "2                  -94.015418                  14.140820   \n",
       "3                  -97.247602                  32.730553   \n",
       "4                  -96.057265                  28.320527   \n",
       "\n",
       "   L3_CH4_CH4_column_volume_mixing_ratio_dry_air  L3_CH4_aerosol_height  \\\n",
       "0                                            NaN                    NaN   \n",
       "1                                            NaN                    NaN   \n",
       "2                                            NaN                    NaN   \n",
       "3                                            NaN                    NaN   \n",
       "4                                    1831.261597            3229.118652   \n",
       "\n",
       "   L3_CH4_aerosol_optical_depth  L3_CH4_sensor_azimuth_angle  \\\n",
       "0                           NaN                          NaN   \n",
       "1                           NaN                          NaN   \n",
       "2                           NaN                          NaN   \n",
       "3                           NaN                          NaN   \n",
       "4                      0.031068                  -100.278343   \n",
       "\n",
       "   L3_CH4_sensor_zenith_angle  L3_CH4_solar_azimuth_angle  \\\n",
       "0                         NaN                         NaN   \n",
       "1                         NaN                         NaN   \n",
       "2                         NaN                         NaN   \n",
       "3                         NaN                         NaN   \n",
       "4                    41.84708                  -95.910744   \n",
       "\n",
       "   L3_CH4_solar_zenith_angle  \n",
       "0                        NaN  \n",
       "1                        NaN  \n",
       "2                        NaN  \n",
       "3                        NaN  \n",
       "4                  28.498789  \n",
       "\n",
       "[5 rows x 77 columns]"
      ]
     },
     "execution_count": 4,
     "metadata": {},
     "output_type": "execute_result"
    }
   ],
   "source": [
    "test.head(5)"
   ]
  },
  {
   "cell_type": "code",
   "execution_count": 5,
   "id": "df7bde68",
   "metadata": {
    "execution": {
     "iopub.execute_input": "2024-03-10T16:17:01.599818Z",
     "iopub.status.busy": "2024-03-10T16:17:01.599441Z",
     "iopub.status.idle": "2024-03-10T16:17:01.606339Z",
     "shell.execute_reply": "2024-03-10T16:17:01.605181Z"
    },
    "papermill": {
     "duration": 0.018102,
     "end_time": "2024-03-10T16:17:01.608653",
     "exception": false,
     "start_time": "2024-03-10T16:17:01.590551",
     "status": "completed"
    },
    "tags": []
   },
   "outputs": [
    {
     "data": {
      "text/plain": [
       "(30557, 82)"
      ]
     },
     "execution_count": 5,
     "metadata": {},
     "output_type": "execute_result"
    }
   ],
   "source": [
    "train.shape"
   ]
  },
  {
   "cell_type": "code",
   "execution_count": 6,
   "id": "22378fde",
   "metadata": {
    "execution": {
     "iopub.execute_input": "2024-03-10T16:17:01.625281Z",
     "iopub.status.busy": "2024-03-10T16:17:01.624898Z",
     "iopub.status.idle": "2024-03-10T16:17:01.631500Z",
     "shell.execute_reply": "2024-03-10T16:17:01.630442Z"
    },
    "papermill": {
     "duration": 0.017617,
     "end_time": "2024-03-10T16:17:01.633816",
     "exception": false,
     "start_time": "2024-03-10T16:17:01.616199",
     "status": "completed"
    },
    "tags": []
   },
   "outputs": [
    {
     "data": {
      "text/plain": [
       "(16136, 77)"
      ]
     },
     "execution_count": 6,
     "metadata": {},
     "output_type": "execute_result"
    }
   ],
   "source": [
    "test.shape"
   ]
  },
  {
   "cell_type": "code",
   "execution_count": 7,
   "id": "741b5301",
   "metadata": {
    "execution": {
     "iopub.execute_input": "2024-03-10T16:17:01.650583Z",
     "iopub.status.busy": "2024-03-10T16:17:01.650190Z",
     "iopub.status.idle": "2024-03-10T16:17:01.658053Z",
     "shell.execute_reply": "2024-03-10T16:17:01.657026Z"
    },
    "papermill": {
     "duration": 0.018911,
     "end_time": "2024-03-10T16:17:01.660389",
     "exception": false,
     "start_time": "2024-03-10T16:17:01.641478",
     "status": "completed"
    },
    "tags": []
   },
   "outputs": [
    {
     "data": {
      "text/plain": [
       "Index(['Place_ID X Date', 'Date', 'Place_ID', 'target', 'target_min',\n",
       "       'target_max', 'target_variance', 'target_count',\n",
       "       'precipitable_water_entire_atmosphere',\n",
       "       'relative_humidity_2m_above_ground',\n",
       "       'specific_humidity_2m_above_ground', 'temperature_2m_above_ground',\n",
       "       'u_component_of_wind_10m_above_ground',\n",
       "       'v_component_of_wind_10m_above_ground',\n",
       "       'L3_NO2_NO2_column_number_density',\n",
       "       'L3_NO2_NO2_slant_column_number_density',\n",
       "       'L3_NO2_absorbing_aerosol_index', 'L3_NO2_cloud_fraction',\n",
       "       'L3_NO2_sensor_altitude', 'L3_NO2_sensor_azimuth_angle',\n",
       "       'L3_NO2_sensor_zenith_angle', 'L3_NO2_solar_azimuth_angle',\n",
       "       'L3_NO2_solar_zenith_angle',\n",
       "       'L3_NO2_stratospheric_NO2_column_number_density',\n",
       "       'L3_NO2_tropopause_pressure',\n",
       "       'L3_NO2_tropospheric_NO2_column_number_density',\n",
       "       'L3_O3_O3_column_number_density', 'L3_O3_O3_effective_temperature',\n",
       "       'L3_O3_cloud_fraction', 'L3_O3_sensor_azimuth_angle',\n",
       "       'L3_O3_sensor_zenith_angle', 'L3_O3_solar_azimuth_angle',\n",
       "       'L3_O3_solar_zenith_angle', 'L3_CO_CO_column_number_density',\n",
       "       'L3_CO_H2O_column_number_density', 'L3_CO_cloud_height',\n",
       "       'L3_CO_sensor_altitude', 'L3_CO_sensor_azimuth_angle',\n",
       "       'L3_CO_sensor_zenith_angle', 'L3_CO_solar_azimuth_angle',\n",
       "       'L3_CO_solar_zenith_angle', 'L3_HCHO_HCHO_slant_column_number_density',\n",
       "       'L3_HCHO_cloud_fraction', 'L3_HCHO_sensor_azimuth_angle',\n",
       "       'L3_HCHO_sensor_zenith_angle', 'L3_HCHO_solar_azimuth_angle',\n",
       "       'L3_HCHO_solar_zenith_angle',\n",
       "       'L3_HCHO_tropospheric_HCHO_column_number_density',\n",
       "       'L3_HCHO_tropospheric_HCHO_column_number_density_amf',\n",
       "       'L3_CLOUD_cloud_base_height', 'L3_CLOUD_cloud_base_pressure',\n",
       "       'L3_CLOUD_cloud_fraction', 'L3_CLOUD_cloud_optical_depth',\n",
       "       'L3_CLOUD_cloud_top_height', 'L3_CLOUD_cloud_top_pressure',\n",
       "       'L3_CLOUD_sensor_azimuth_angle', 'L3_CLOUD_sensor_zenith_angle',\n",
       "       'L3_CLOUD_solar_azimuth_angle', 'L3_CLOUD_solar_zenith_angle',\n",
       "       'L3_CLOUD_surface_albedo', 'L3_AER_AI_absorbing_aerosol_index',\n",
       "       'L3_AER_AI_sensor_altitude', 'L3_AER_AI_sensor_azimuth_angle',\n",
       "       'L3_AER_AI_sensor_zenith_angle', 'L3_AER_AI_solar_azimuth_angle',\n",
       "       'L3_AER_AI_solar_zenith_angle', 'L3_SO2_SO2_column_number_density',\n",
       "       'L3_SO2_SO2_column_number_density_amf',\n",
       "       'L3_SO2_SO2_slant_column_number_density',\n",
       "       'L3_SO2_absorbing_aerosol_index', 'L3_SO2_cloud_fraction',\n",
       "       'L3_SO2_sensor_azimuth_angle', 'L3_SO2_sensor_zenith_angle',\n",
       "       'L3_SO2_solar_azimuth_angle', 'L3_SO2_solar_zenith_angle',\n",
       "       'L3_CH4_CH4_column_volume_mixing_ratio_dry_air',\n",
       "       'L3_CH4_aerosol_height', 'L3_CH4_aerosol_optical_depth',\n",
       "       'L3_CH4_sensor_azimuth_angle', 'L3_CH4_sensor_zenith_angle',\n",
       "       'L3_CH4_solar_azimuth_angle', 'L3_CH4_solar_zenith_angle'],\n",
       "      dtype='object')"
      ]
     },
     "execution_count": 7,
     "metadata": {},
     "output_type": "execute_result"
    }
   ],
   "source": [
    "train.columns"
   ]
  },
  {
   "cell_type": "code",
   "execution_count": 8,
   "id": "1b5947f1",
   "metadata": {
    "execution": {
     "iopub.execute_input": "2024-03-10T16:17:01.678040Z",
     "iopub.status.busy": "2024-03-10T16:17:01.677651Z",
     "iopub.status.idle": "2024-03-10T16:17:01.721910Z",
     "shell.execute_reply": "2024-03-10T16:17:01.721009Z"
    },
    "papermill": {
     "duration": 0.056135,
     "end_time": "2024-03-10T16:17:01.724476",
     "exception": false,
     "start_time": "2024-03-10T16:17:01.668341",
     "status": "completed"
    },
    "tags": []
   },
   "outputs": [
    {
     "name": "stdout",
     "output_type": "stream",
     "text": [
      "<class 'pandas.core.frame.DataFrame'>\n",
      "RangeIndex: 30557 entries, 0 to 30556\n",
      "Data columns (total 82 columns):\n",
      " #   Column                                               Non-Null Count  Dtype  \n",
      "---  ------                                               --------------  -----  \n",
      " 0   Place_ID X Date                                      30557 non-null  object \n",
      " 1   Date                                                 30557 non-null  object \n",
      " 2   Place_ID                                             30557 non-null  object \n",
      " 3   target                                               30557 non-null  float64\n",
      " 4   target_min                                           30557 non-null  float64\n",
      " 5   target_max                                           30557 non-null  float64\n",
      " 6   target_variance                                      30557 non-null  float64\n",
      " 7   target_count                                         30557 non-null  int64  \n",
      " 8   precipitable_water_entire_atmosphere                 30557 non-null  float64\n",
      " 9   relative_humidity_2m_above_ground                    30557 non-null  float64\n",
      " 10  specific_humidity_2m_above_ground                    30557 non-null  float64\n",
      " 11  temperature_2m_above_ground                          30557 non-null  float64\n",
      " 12  u_component_of_wind_10m_above_ground                 30557 non-null  float64\n",
      " 13  v_component_of_wind_10m_above_ground                 30557 non-null  float64\n",
      " 14  L3_NO2_NO2_column_number_density                     28368 non-null  float64\n",
      " 15  L3_NO2_NO2_slant_column_number_density               28368 non-null  float64\n",
      " 16  L3_NO2_absorbing_aerosol_index                       28368 non-null  float64\n",
      " 17  L3_NO2_cloud_fraction                                28368 non-null  float64\n",
      " 18  L3_NO2_sensor_altitude                               28368 non-null  float64\n",
      " 19  L3_NO2_sensor_azimuth_angle                          28367 non-null  float64\n",
      " 20  L3_NO2_sensor_zenith_angle                           28367 non-null  float64\n",
      " 21  L3_NO2_solar_azimuth_angle                           28367 non-null  float64\n",
      " 22  L3_NO2_solar_zenith_angle                            28367 non-null  float64\n",
      " 23  L3_NO2_stratospheric_NO2_column_number_density       28367 non-null  float64\n",
      " 24  L3_NO2_tropopause_pressure                           28367 non-null  float64\n",
      " 25  L3_NO2_tropospheric_NO2_column_number_density        21888 non-null  float64\n",
      " 26  L3_O3_O3_column_number_density                       30274 non-null  float64\n",
      " 27  L3_O3_O3_effective_temperature                       30274 non-null  float64\n",
      " 28  L3_O3_cloud_fraction                                 30274 non-null  float64\n",
      " 29  L3_O3_sensor_azimuth_angle                           30274 non-null  float64\n",
      " 30  L3_O3_sensor_zenith_angle                            30274 non-null  float64\n",
      " 31  L3_O3_solar_azimuth_angle                            30274 non-null  float64\n",
      " 32  L3_O3_solar_zenith_angle                             30274 non-null  float64\n",
      " 33  L3_CO_CO_column_number_density                       25134 non-null  float64\n",
      " 34  L3_CO_H2O_column_number_density                      25134 non-null  float64\n",
      " 35  L3_CO_cloud_height                                   25134 non-null  float64\n",
      " 36  L3_CO_sensor_altitude                                25134 non-null  float64\n",
      " 37  L3_CO_sensor_azimuth_angle                           25134 non-null  float64\n",
      " 38  L3_CO_sensor_zenith_angle                            25134 non-null  float64\n",
      " 39  L3_CO_solar_azimuth_angle                            25134 non-null  float64\n",
      " 40  L3_CO_solar_zenith_angle                             25134 non-null  float64\n",
      " 41  L3_HCHO_HCHO_slant_column_number_density             23132 non-null  float64\n",
      " 42  L3_HCHO_cloud_fraction                               23132 non-null  float64\n",
      " 43  L3_HCHO_sensor_azimuth_angle                         23132 non-null  float64\n",
      " 44  L3_HCHO_sensor_zenith_angle                          23132 non-null  float64\n",
      " 45  L3_HCHO_solar_azimuth_angle                          23132 non-null  float64\n",
      " 46  L3_HCHO_solar_zenith_angle                           23132 non-null  float64\n",
      " 47  L3_HCHO_tropospheric_HCHO_column_number_density      23132 non-null  float64\n",
      " 48  L3_HCHO_tropospheric_HCHO_column_number_density_amf  23132 non-null  float64\n",
      " 49  L3_CLOUD_cloud_base_height                           29035 non-null  float64\n",
      " 50  L3_CLOUD_cloud_base_pressure                         29035 non-null  float64\n",
      " 51  L3_CLOUD_cloud_fraction                              30183 non-null  float64\n",
      " 52  L3_CLOUD_cloud_optical_depth                         29035 non-null  float64\n",
      " 53  L3_CLOUD_cloud_top_height                            29035 non-null  float64\n",
      " 54  L3_CLOUD_cloud_top_pressure                          29035 non-null  float64\n",
      " 55  L3_CLOUD_sensor_azimuth_angle                        30183 non-null  float64\n",
      " 56  L3_CLOUD_sensor_zenith_angle                         30183 non-null  float64\n",
      " 57  L3_CLOUD_solar_azimuth_angle                         30183 non-null  float64\n",
      " 58  L3_CLOUD_solar_zenith_angle                          30183 non-null  float64\n",
      " 59  L3_CLOUD_surface_albedo                              29035 non-null  float64\n",
      " 60  L3_AER_AI_absorbing_aerosol_index                    30360 non-null  float64\n",
      " 61  L3_AER_AI_sensor_altitude                            30360 non-null  float64\n",
      " 62  L3_AER_AI_sensor_azimuth_angle                       30360 non-null  float64\n",
      " 63  L3_AER_AI_sensor_zenith_angle                        30360 non-null  float64\n",
      " 64  L3_AER_AI_solar_azimuth_angle                        30360 non-null  float64\n",
      " 65  L3_AER_AI_solar_zenith_angle                         30360 non-null  float64\n",
      " 66  L3_SO2_SO2_column_number_density                     23320 non-null  float64\n",
      " 67  L3_SO2_SO2_column_number_density_amf                 23320 non-null  float64\n",
      " 68  L3_SO2_SO2_slant_column_number_density               23320 non-null  float64\n",
      " 69  L3_SO2_absorbing_aerosol_index                       23249 non-null  float64\n",
      " 70  L3_SO2_cloud_fraction                                23320 non-null  float64\n",
      " 71  L3_SO2_sensor_azimuth_angle                          23320 non-null  float64\n",
      " 72  L3_SO2_sensor_zenith_angle                           23320 non-null  float64\n",
      " 73  L3_SO2_solar_azimuth_angle                           23320 non-null  float64\n",
      " 74  L3_SO2_solar_zenith_angle                            23320 non-null  float64\n",
      " 75  L3_CH4_CH4_column_volume_mixing_ratio_dry_air        5792 non-null   float64\n",
      " 76  L3_CH4_aerosol_height                                5792 non-null   float64\n",
      " 77  L3_CH4_aerosol_optical_depth                         5792 non-null   float64\n",
      " 78  L3_CH4_sensor_azimuth_angle                          5792 non-null   float64\n",
      " 79  L3_CH4_sensor_zenith_angle                           5792 non-null   float64\n",
      " 80  L3_CH4_solar_azimuth_angle                           5792 non-null   float64\n",
      " 81  L3_CH4_solar_zenith_angle                            5792 non-null   float64\n",
      "dtypes: float64(78), int64(1), object(3)\n",
      "memory usage: 19.1+ MB\n"
     ]
    }
   ],
   "source": [
    "train.info()"
   ]
  },
  {
   "cell_type": "code",
   "execution_count": 9,
   "id": "49bfc014",
   "metadata": {
    "execution": {
     "iopub.execute_input": "2024-03-10T16:17:01.742718Z",
     "iopub.status.busy": "2024-03-10T16:17:01.742327Z",
     "iopub.status.idle": "2024-03-10T16:17:01.748589Z",
     "shell.execute_reply": "2024-03-10T16:17:01.747330Z"
    },
    "papermill": {
     "duration": 0.018953,
     "end_time": "2024-03-10T16:17:01.751639",
     "exception": false,
     "start_time": "2024-03-10T16:17:01.732686",
     "status": "completed"
    },
    "tags": []
   },
   "outputs": [],
   "source": [
    "features = train.columns.drop(['Place_ID X Date', 'Date', 'Place_ID', 'target'])"
   ]
  },
  {
   "cell_type": "code",
   "execution_count": 10,
   "id": "12ebdb0a",
   "metadata": {
    "execution": {
     "iopub.execute_input": "2024-03-10T16:17:01.770935Z",
     "iopub.status.busy": "2024-03-10T16:17:01.770502Z",
     "iopub.status.idle": "2024-03-10T16:17:01.790133Z",
     "shell.execute_reply": "2024-03-10T16:17:01.788842Z"
    },
    "papermill": {
     "duration": 0.032261,
     "end_time": "2024-03-10T16:17:01.792972",
     "exception": false,
     "start_time": "2024-03-10T16:17:01.760711",
     "status": "completed"
    },
    "tags": []
   },
   "outputs": [],
   "source": [
    "features = [col for col in train.columns if col not in ['Place_ID X Date', 'Date', 'Place_ID', 'target', 'target_min', 'target_max', 'target_variance', 'target_count']]\n",
    "X_train = train[features]\n",
    "y_train = train['target']\n",
    "X_test = test[features]"
   ]
  },
  {
   "cell_type": "code",
   "execution_count": 11,
   "id": "fe9c104e",
   "metadata": {
    "execution": {
     "iopub.execute_input": "2024-03-10T16:17:01.811575Z",
     "iopub.status.busy": "2024-03-10T16:17:01.811140Z",
     "iopub.status.idle": "2024-03-10T16:17:03.190296Z",
     "shell.execute_reply": "2024-03-10T16:17:03.189154Z"
    },
    "papermill": {
     "duration": 1.392252,
     "end_time": "2024-03-10T16:17:03.193570",
     "exception": false,
     "start_time": "2024-03-10T16:17:01.801318",
     "status": "completed"
    },
    "tags": []
   },
   "outputs": [],
   "source": [
    "from sklearn.model_selection import train_test_split\n",
    "\n",
    "X_train_split, X_valid, y_train_split, y_valid = train_test_split(X_train, y_train, test_size=0.2, random_state=42)"
   ]
  },
  {
   "cell_type": "code",
   "execution_count": 12,
   "id": "01f47e8e",
   "metadata": {
    "execution": {
     "iopub.execute_input": "2024-03-10T16:17:03.213436Z",
     "iopub.status.busy": "2024-03-10T16:17:03.213022Z",
     "iopub.status.idle": "2024-03-10T16:17:20.628904Z",
     "shell.execute_reply": "2024-03-10T16:17:20.627517Z"
    },
    "papermill": {
     "duration": 17.428463,
     "end_time": "2024-03-10T16:17:20.631683",
     "exception": false,
     "start_time": "2024-03-10T16:17:03.203220",
     "status": "completed"
    },
    "tags": []
   },
   "outputs": [
    {
     "name": "stdout",
     "output_type": "stream",
     "text": [
      "Collecting flaml\r\n",
      "  Downloading FLAML-2.1.1-py3-none-any.whl.metadata (15 kB)\r\n",
      "Requirement already satisfied: NumPy>=1.17.0rc1 in /opt/conda/lib/python3.10/site-packages (from flaml) (1.26.4)\r\n",
      "Downloading FLAML-2.1.1-py3-none-any.whl (295 kB)\r\n",
      "\u001b[2K   \u001b[90m━━━━━━━━━━━━━━━━━━━━━━━━━━━━━━━━━━━━━━━━\u001b[0m \u001b[32m295.2/295.2 kB\u001b[0m \u001b[31m7.9 MB/s\u001b[0m eta \u001b[36m0:00:00\u001b[0m\r\n",
      "\u001b[?25hInstalling collected packages: flaml\r\n",
      "Successfully installed flaml-2.1.1\r\n"
     ]
    }
   ],
   "source": [
    "!pip install flaml"
   ]
  },
  {
   "cell_type": "code",
   "execution_count": 13,
   "id": "c84398a7",
   "metadata": {
    "execution": {
     "iopub.execute_input": "2024-03-10T16:17:20.652561Z",
     "iopub.status.busy": "2024-03-10T16:17:20.652120Z",
     "iopub.status.idle": "2024-03-10T16:17:26.114809Z",
     "shell.execute_reply": "2024-03-10T16:17:26.113463Z"
    },
    "papermill": {
     "duration": 5.476223,
     "end_time": "2024-03-10T16:17:26.117780",
     "exception": false,
     "start_time": "2024-03-10T16:17:20.641557",
     "status": "completed"
    },
    "tags": []
   },
   "outputs": [
    {
     "name": "stderr",
     "output_type": "stream",
     "text": [
      "2024-03-10 16:17:21,779\tINFO util.py:124 -- Outdated packages:\n",
      "  ipywidgets==7.7.1 found, needs ipywidgets>=8\n",
      "Run `pip install -U ipywidgets`, then restart the notebook server for rich notebook output.\n",
      "2024-03-10 16:17:22,764\tINFO util.py:124 -- Outdated packages:\n",
      "  ipywidgets==7.7.1 found, needs ipywidgets>=8\n",
      "Run `pip install -U ipywidgets`, then restart the notebook server for rich notebook output.\n"
     ]
    }
   ],
   "source": [
    "from flaml import AutoML\n",
    "automl = AutoML()"
   ]
  },
  {
   "cell_type": "code",
   "execution_count": 14,
   "id": "7b6a9d6a",
   "metadata": {
    "execution": {
     "iopub.execute_input": "2024-03-10T16:17:26.140673Z",
     "iopub.status.busy": "2024-03-10T16:17:26.139952Z",
     "iopub.status.idle": "2024-03-10T16:23:41.277322Z",
     "shell.execute_reply": "2024-03-10T16:23:41.276066Z"
    },
    "papermill": {
     "duration": 375.152917,
     "end_time": "2024-03-10T16:23:41.280468",
     "exception": false,
     "start_time": "2024-03-10T16:17:26.127551",
     "status": "completed"
    },
    "tags": []
   },
   "outputs": [
    {
     "name": "stdout",
     "output_type": "stream",
     "text": [
      "[flaml.automl.logger: 03-10 16:17:26] {1679} INFO - task = classification\n",
      "[flaml.automl.logger: 03-10 16:17:26] {1690} INFO - Evaluation method: holdout\n",
      "[flaml.automl.logger: 03-10 16:17:48] {1788} INFO - Minimizing error metric: 1-accuracy\n",
      "[flaml.automl.logger: 03-10 16:17:48] {1900} INFO - List of ML learners in AutoML Run: ['lgbm', 'rf', 'catboost', 'xgboost', 'extra_tree', 'xgb_limitdepth', 'lrl1']\n",
      "[flaml.automl.logger: 03-10 16:17:48] {2218} INFO - iteration 0, current learner lgbm\n",
      "[flaml.automl.logger: 03-10 16:17:57] {2344} INFO - Estimated sufficient time budget=85807s. Estimated necessary time budget=2107s.\n",
      "[flaml.automl.logger: 03-10 16:17:57] {2391} INFO -  at 31.4s,\testimator lgbm's best error=0.8796,\tbest estimator lgbm's best error=0.8796\n",
      "[flaml.automl.logger: 03-10 16:17:57] {2218} INFO - iteration 1, current learner lgbm\n",
      "[flaml.automl.logger: 03-10 16:18:09] {2391} INFO -  at 43.7s,\testimator lgbm's best error=0.8796,\tbest estimator lgbm's best error=0.8796\n",
      "[flaml.automl.logger: 03-10 16:18:09] {2218} INFO - iteration 2, current learner lgbm\n",
      "[flaml.automl.logger: 03-10 16:18:28] {2391} INFO -  at 62.1s,\testimator lgbm's best error=0.8617,\tbest estimator lgbm's best error=0.8617\n",
      "[flaml.automl.logger: 03-10 16:18:28] {2218} INFO - iteration 3, current learner xgboost\n",
      "[flaml.automl.logger: 03-10 16:18:46] {2391} INFO -  at 80.6s,\testimator xgboost's best error=0.8864,\tbest estimator lgbm's best error=0.8617\n",
      "[flaml.automl.logger: 03-10 16:18:46] {2218} INFO - iteration 4, current learner extra_tree\n",
      "[flaml.automl.logger: 03-10 16:18:46] {2391} INFO -  at 80.7s,\testimator extra_tree's best error=0.9712,\tbest estimator lgbm's best error=0.8617\n",
      "[flaml.automl.logger: 03-10 16:18:46] {2218} INFO - iteration 5, current learner lgbm\n",
      "[flaml.automl.logger: 03-10 16:19:19] {2391} INFO -  at 112.9s,\testimator lgbm's best error=0.8617,\tbest estimator lgbm's best error=0.8617\n",
      "[flaml.automl.logger: 03-10 16:19:19] {2218} INFO - iteration 6, current learner extra_tree\n",
      "[flaml.automl.logger: 03-10 16:19:19] {2391} INFO -  at 113.0s,\testimator extra_tree's best error=0.9571,\tbest estimator lgbm's best error=0.8617\n",
      "[flaml.automl.logger: 03-10 16:19:19] {2218} INFO - iteration 7, current learner extra_tree\n",
      "[flaml.automl.logger: 03-10 16:19:19] {2391} INFO -  at 113.2s,\testimator extra_tree's best error=0.9571,\tbest estimator lgbm's best error=0.8617\n",
      "[flaml.automl.logger: 03-10 16:19:19] {2218} INFO - iteration 8, current learner xgboost\n",
      "[flaml.automl.logger: 03-10 16:19:37] {2391} INFO -  at 131.4s,\testimator xgboost's best error=0.8864,\tbest estimator lgbm's best error=0.8617\n",
      "[flaml.automl.logger: 03-10 16:19:37] {2218} INFO - iteration 9, current learner xgboost\n",
      "[flaml.automl.logger: 03-10 16:19:55] {2391} INFO -  at 149.4s,\testimator xgboost's best error=0.8736,\tbest estimator lgbm's best error=0.8617\n",
      "[flaml.automl.logger: 03-10 16:19:55] {2218} INFO - iteration 10, current learner extra_tree\n",
      "[flaml.automl.logger: 03-10 16:19:55] {2391} INFO -  at 149.7s,\testimator extra_tree's best error=0.9571,\tbest estimator lgbm's best error=0.8617\n",
      "[flaml.automl.logger: 03-10 16:19:55] {2218} INFO - iteration 11, current learner extra_tree\n",
      "[flaml.automl.logger: 03-10 16:19:55] {2391} INFO -  at 149.9s,\testimator extra_tree's best error=0.9542,\tbest estimator lgbm's best error=0.8617\n",
      "[flaml.automl.logger: 03-10 16:19:55] {2218} INFO - iteration 12, current learner rf\n",
      "[flaml.automl.logger: 03-10 16:20:06] {2391} INFO -  at 159.9s,\testimator rf's best error=0.9686,\tbest estimator lgbm's best error=0.8617\n",
      "[flaml.automl.logger: 03-10 16:20:06] {2218} INFO - iteration 13, current learner rf\n",
      "[flaml.automl.logger: 03-10 16:20:07] {2391} INFO -  at 161.5s,\testimator rf's best error=0.9545,\tbest estimator lgbm's best error=0.8617\n",
      "[flaml.automl.logger: 03-10 16:20:07] {2218} INFO - iteration 14, current learner rf\n",
      "[flaml.automl.logger: 03-10 16:20:08] {2391} INFO -  at 162.8s,\testimator rf's best error=0.9545,\tbest estimator lgbm's best error=0.8617\n",
      "[flaml.automl.logger: 03-10 16:20:08] {2218} INFO - iteration 15, current learner xgboost\n",
      "[flaml.automl.logger: 03-10 16:20:27] {2391} INFO -  at 181.7s,\testimator xgboost's best error=0.8736,\tbest estimator lgbm's best error=0.8617\n",
      "[flaml.automl.logger: 03-10 16:20:27] {2218} INFO - iteration 16, current learner lgbm\n",
      "[flaml.automl.logger: 03-10 16:20:45] {2391} INFO -  at 199.6s,\testimator lgbm's best error=0.8617,\tbest estimator lgbm's best error=0.8617\n",
      "[flaml.automl.logger: 03-10 16:20:45] {2218} INFO - iteration 17, current learner extra_tree\n",
      "[flaml.automl.logger: 03-10 16:20:46] {2391} INFO -  at 199.9s,\testimator extra_tree's best error=0.9542,\tbest estimator lgbm's best error=0.8617\n",
      "[flaml.automl.logger: 03-10 16:20:46] {2218} INFO - iteration 18, current learner lgbm\n",
      "[flaml.automl.logger: 03-10 16:21:04] {2391} INFO -  at 218.6s,\testimator lgbm's best error=0.8617,\tbest estimator lgbm's best error=0.8617\n",
      "[flaml.automl.logger: 03-10 16:21:04] {2218} INFO - iteration 19, current learner xgboost\n",
      "[flaml.automl.logger: 03-10 16:21:26] {2391} INFO -  at 240.0s,\testimator xgboost's best error=0.8396,\tbest estimator xgboost's best error=0.8396\n",
      "[flaml.automl.logger: 03-10 16:21:26] {2218} INFO - iteration 20, current learner xgboost\n",
      "[flaml.automl.logger: 03-10 16:21:46] {2391} INFO -  at 260.7s,\testimator xgboost's best error=0.8396,\tbest estimator xgboost's best error=0.8396\n",
      "[flaml.automl.logger: 03-10 16:21:46] {2218} INFO - iteration 21, current learner xgboost\n",
      "[flaml.automl.logger: 03-10 16:22:25] {2391} INFO -  at 299.1s,\testimator xgboost's best error=0.8358,\tbest estimator xgboost's best error=0.8358\n",
      "[flaml.automl.logger: 03-10 16:22:25] {2218} INFO - iteration 22, current learner extra_tree\n",
      "[flaml.automl.logger: 03-10 16:22:25] {2391} INFO -  at 299.3s,\testimator extra_tree's best error=0.9382,\tbest estimator xgboost's best error=0.8358\n",
      "[flaml.automl.logger: 03-10 16:22:25] {2218} INFO - iteration 23, current learner extra_tree\n",
      "[flaml.automl.logger: 03-10 16:22:25] {2391} INFO -  at 299.8s,\testimator extra_tree's best error=0.9161,\tbest estimator xgboost's best error=0.8358\n",
      "[flaml.automl.logger: 03-10 16:22:25] {2218} INFO - iteration 24, current learner catboost\n",
      "[flaml.automl.logger: 03-10 16:22:37] {2391} INFO -  at 311.7s,\testimator catboost's best error=0.9629,\tbest estimator xgboost's best error=0.8358\n",
      "[flaml.automl.logger: 03-10 16:23:41] {2627} INFO - retrain xgboost for 63.4s\n",
      "[flaml.automl.logger: 03-10 16:23:41] {2630} INFO - retrained model: XGBClassifier(base_score=None, booster=None, callbacks=[],\n",
      "              colsample_bylevel=1.0, colsample_bynode=None,\n",
      "              colsample_bytree=1.0, device=None, early_stopping_rounds=None,\n",
      "              enable_categorical=False, eval_metric=None, feature_types=None,\n",
      "              gamma=None, grow_policy='lossguide', importance_type=None,\n",
      "              interaction_constraints=None, learning_rate=0.12590240632657684,\n",
      "              max_bin=None, max_cat_threshold=None, max_cat_to_onehot=None,\n",
      "              max_delta_step=None, max_depth=0, max_leaves=8,\n",
      "              min_child_weight=0.11694090285663382, missing=nan,\n",
      "              monotone_constraints=None, multi_strategy=None, n_estimators=11,\n",
      "              n_jobs=-1, num_parallel_tree=None, objective='multi:softprob', ...)\n",
      "[flaml.automl.logger: 03-10 16:23:41] {1930} INFO - fit succeeded\n",
      "[flaml.automl.logger: 03-10 16:23:41] {1931} INFO - Time taken to find the best model: 299.103218793869\n"
     ]
    }
   ],
   "source": [
    "automl.fit(X_train_split, y_train_split, task=\"classification\",metric='accuracy',time_budget=300)"
   ]
  },
  {
   "cell_type": "code",
   "execution_count": 15,
   "id": "bbc47c89",
   "metadata": {
    "execution": {
     "iopub.execute_input": "2024-03-10T16:23:41.312801Z",
     "iopub.status.busy": "2024-03-10T16:23:41.312089Z",
     "iopub.status.idle": "2024-03-10T16:23:41.319352Z",
     "shell.execute_reply": "2024-03-10T16:23:41.318140Z"
    },
    "papermill": {
     "duration": 0.02697,
     "end_time": "2024-03-10T16:23:41.322435",
     "exception": false,
     "start_time": "2024-03-10T16:23:41.295465",
     "status": "completed"
    },
    "tags": []
   },
   "outputs": [
    {
     "name": "stdout",
     "output_type": "stream",
     "text": [
      "Best ML leaner: xgboost\n",
      "Best hyperparmeter config: {'n_estimators': 11, 'max_leaves': 8, 'min_child_weight': 0.11694090285663382, 'learning_rate': 0.12590240632657684, 'subsample': 1.0, 'colsample_bylevel': 1.0, 'colsample_bytree': 1.0, 'reg_alpha': 0.0009765625, 'reg_lambda': 0.05141342928466387}\n",
      "Best log_loss on validation data: 0.8358\n",
      "Training duration of best run: 63.42 s\n"
     ]
    }
   ],
   "source": [
    "print('Best ML leaner:', automl.best_estimator)\n",
    "print('Best hyperparmeter config:', automl.best_config)\n",
    "print('Best log_loss on validation data: {0:.4g}'.format(automl.best_loss))\n",
    "print('Training duration of best run: {0:.4g} s'.format(automl.best_config_train_time))"
   ]
  },
  {
   "cell_type": "code",
   "execution_count": 16,
   "id": "40ae0e12",
   "metadata": {
    "execution": {
     "iopub.execute_input": "2024-03-10T16:23:41.356546Z",
     "iopub.status.busy": "2024-03-10T16:23:41.356106Z",
     "iopub.status.idle": "2024-03-10T16:23:42.530896Z",
     "shell.execute_reply": "2024-03-10T16:23:42.529809Z"
    },
    "papermill": {
     "duration": 1.196212,
     "end_time": "2024-03-10T16:23:42.533586",
     "exception": false,
     "start_time": "2024-03-10T16:23:41.337374",
     "status": "completed"
    },
    "tags": []
   },
   "outputs": [],
   "source": [
    "model_x = automl.model\n",
    "predictions = model_x.predict(X_test)"
   ]
  },
  {
   "cell_type": "code",
   "execution_count": 17,
   "id": "af26bbba",
   "metadata": {
    "execution": {
     "iopub.execute_input": "2024-03-10T16:23:42.566067Z",
     "iopub.status.busy": "2024-03-10T16:23:42.565401Z",
     "iopub.status.idle": "2024-03-10T16:23:42.578392Z",
     "shell.execute_reply": "2024-03-10T16:23:42.577188Z"
    },
    "papermill": {
     "duration": 0.032006,
     "end_time": "2024-03-10T16:23:42.580797",
     "exception": false,
     "start_time": "2024-03-10T16:23:42.548791",
     "status": "completed"
    },
    "tags": []
   },
   "outputs": [
    {
     "data": {
      "text/html": [
       "<div>\n",
       "<style scoped>\n",
       "    .dataframe tbody tr th:only-of-type {\n",
       "        vertical-align: middle;\n",
       "    }\n",
       "\n",
       "    .dataframe tbody tr th {\n",
       "        vertical-align: top;\n",
       "    }\n",
       "\n",
       "    .dataframe thead th {\n",
       "        text-align: right;\n",
       "    }\n",
       "</style>\n",
       "<table border=\"1\" class=\"dataframe\">\n",
       "  <thead>\n",
       "    <tr style=\"text-align: right;\">\n",
       "      <th></th>\n",
       "      <th>Place_ID X Date</th>\n",
       "      <th>target</th>\n",
       "    </tr>\n",
       "  </thead>\n",
       "  <tbody>\n",
       "    <tr>\n",
       "      <th>0</th>\n",
       "      <td>0OS9LVX X 2020-01-02</td>\n",
       "      <td>338</td>\n",
       "    </tr>\n",
       "    <tr>\n",
       "      <th>1</th>\n",
       "      <td>0OS9LVX X 2020-01-03</td>\n",
       "      <td>346</td>\n",
       "    </tr>\n",
       "    <tr>\n",
       "      <th>2</th>\n",
       "      <td>0OS9LVX X 2020-01-04</td>\n",
       "      <td>346</td>\n",
       "    </tr>\n",
       "    <tr>\n",
       "      <th>3</th>\n",
       "      <td>0OS9LVX X 2020-01-05</td>\n",
       "      <td>265</td>\n",
       "    </tr>\n",
       "    <tr>\n",
       "      <th>4</th>\n",
       "      <td>0OS9LVX X 2020-01-06</td>\n",
       "      <td>79</td>\n",
       "    </tr>\n",
       "  </tbody>\n",
       "</table>\n",
       "</div>"
      ],
      "text/plain": [
       "        Place_ID X Date  target\n",
       "0  0OS9LVX X 2020-01-02     338\n",
       "1  0OS9LVX X 2020-01-03     346\n",
       "2  0OS9LVX X 2020-01-04     346\n",
       "3  0OS9LVX X 2020-01-05     265\n",
       "4  0OS9LVX X 2020-01-06      79"
      ]
     },
     "execution_count": 17,
     "metadata": {},
     "output_type": "execute_result"
    }
   ],
   "source": [
    "output = pd.DataFrame({'Place_ID X Date': test['Place_ID X Date'],\n",
    "                       'target': predictions})\n",
    "output.head(5)"
   ]
  },
  {
   "cell_type": "code",
   "execution_count": 18,
   "id": "3473114d",
   "metadata": {
    "execution": {
     "iopub.execute_input": "2024-03-10T16:23:42.613118Z",
     "iopub.status.busy": "2024-03-10T16:23:42.612444Z",
     "iopub.status.idle": "2024-03-10T16:23:42.655509Z",
     "shell.execute_reply": "2024-03-10T16:23:42.654559Z"
    },
    "papermill": {
     "duration": 0.062219,
     "end_time": "2024-03-10T16:23:42.658062",
     "exception": false,
     "start_time": "2024-03-10T16:23:42.595843",
     "status": "completed"
    },
    "tags": []
   },
   "outputs": [],
   "source": [
    "output.to_csv('submission.csv', index=False)"
   ]
  }
 ],
 "metadata": {
  "kaggle": {
   "accelerator": "none",
   "dataSources": [
    {
     "datasetId": 4464453,
     "sourceId": 7657141,
     "sourceType": "datasetVersion"
    }
   ],
   "dockerImageVersionId": 30664,
   "isGpuEnabled": false,
   "isInternetEnabled": true,
   "language": "python",
   "sourceType": "notebook"
  },
  "kernelspec": {
   "display_name": "Python 3",
   "language": "python",
   "name": "python3"
  },
  "language_info": {
   "codemirror_mode": {
    "name": "ipython",
    "version": 3
   },
   "file_extension": ".py",
   "mimetype": "text/x-python",
   "name": "python",
   "nbconvert_exporter": "python",
   "pygments_lexer": "ipython3",
   "version": "3.10.13"
  },
  "papermill": {
   "default_parameters": {},
   "duration": 408.391947,
   "end_time": "2024-03-10T16:23:43.998303",
   "environment_variables": {},
   "exception": null,
   "input_path": "__notebook__.ipynb",
   "output_path": "__notebook__.ipynb",
   "parameters": {},
   "start_time": "2024-03-10T16:16:55.606356",
   "version": "2.5.0"
  }
 },
 "nbformat": 4,
 "nbformat_minor": 5
}
